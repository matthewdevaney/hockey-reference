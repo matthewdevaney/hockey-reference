{
 "cells": [
  {
   "cell_type": "markdown",
   "metadata": {},
   "source": [
    "__import__ required Python libraries"
   ]
  },
  {
   "cell_type": "code",
   "execution_count": 1,
   "metadata": {
    "collapsed": true
   },
   "outputs": [],
   "source": [
    "from bs4 import BeautifulSoup\n",
    "import datetime\n",
    "import pandas as pd\n",
    "import requests"
   ]
  },
  {
   "cell_type": "markdown",
   "metadata": {},
   "source": [
    "__generate__ the hockey-reference url"
   ]
  },
  {
   "cell_type": "code",
   "execution_count": 2,
   "metadata": {
    "collapsed": true
   },
   "outputs": [],
   "source": [
    "stats_month = 2\n",
    "stats_day = 9\n",
    "stats_year = 2018\n",
    "stats_webpage = 'https://www.hockey-reference.com/friv/dailyleaders.fcgi?month={}&day={}&year={}'.format(\n",
    "                 stats_month, stats_day, stats_year)"
   ]
  },
  {
   "cell_type": "markdown",
   "metadata": {},
   "source": [
    "__create__ the soup object"
   ]
  },
  {
   "cell_type": "code",
   "execution_count": 3,
   "metadata": {
    "collapsed": true
   },
   "outputs": [],
   "source": [
    "r = requests.get(stats_webpage)\n",
    "html_doc = r.text\n",
    "soup = BeautifulSoup(html_doc, 'html.parser')"
   ]
  },
  {
   "cell_type": "markdown",
   "metadata": {},
   "source": [
    "__get__ all records from the goalies table"
   ]
  },
  {
   "cell_type": "code",
   "execution_count": 4,
   "metadata": {},
   "outputs": [],
   "source": [
    "goalies_table = soup.find(id='goalies').find_all('td')\n",
    "goalies_tbody = [cell.get_text() for cell in goalies_table]\n",
    "goalies_records = [tuple(goalies_tbody[row: row + 15]) for row in range(0, len(goalies_tbody), 15)]"
   ]
  },
  {
   "cell_type": "markdown",
   "metadata": {},
   "source": [
    "__make__ a list of player ids"
   ]
  },
  {
   "cell_type": "code",
   "execution_count": 5,
   "metadata": {
    "collapsed": true
   },
   "outputs": [],
   "source": [
    "player_id_list = []\n",
    "\n",
    "for player_id in range(len(goalies_table)):\n",
    "    try:\n",
    "        player_id_list.append(goalies_table[player_id]['data-append-csv'])\n",
    "    except:\n",
    "        pass"
   ]
  },
  {
   "cell_type": "markdown",
   "metadata": {},
   "source": [
    "__load__ the goalies data into a Pandas DataFrame"
   ]
  },
  {
   "cell_type": "code",
   "execution_count": 6,
   "metadata": {},
   "outputs": [],
   "source": [
    "columns_list = ['Player', 'Position','Team', 'Home Away', 'Opponent', 'Result', 'Boxscore', 'DEC', 'GA', 'SA', 'SV', 'SV%', 'SO', 'PIM', 'TOI']\n",
    "df_goalies = pd.DataFrame.from_records(goalies_records, columns=columns_list)\n",
    "df_goalies.insert(0, 'Date', datetime.datetime(stats_year, stats_month, stats_day))"
   ]
  },
  {
   "cell_type": "markdown",
   "metadata": {},
   "source": [
    "__concatenate__ the Player IDs to the goalies DataFrame"
   ]
  },
  {
   "cell_type": "code",
   "execution_count": 7,
   "metadata": {
    "collapsed": true
   },
   "outputs": [],
   "source": [
    "df_goalies_id = pd.DataFrame(player_id_list, columns=['Player ID'])\n",
    "df_concat = pd.concat([df_goalies_id, df_goalies], axis=1)"
   ]
  },
  {
   "cell_type": "markdown",
   "metadata": {},
   "source": [
    "__delete__ the *Boxscore* column and __replace__ the contents of the *Home Away* column"
   ]
  },
  {
   "cell_type": "code",
   "execution_count": 8,
   "metadata": {
    "collapsed": true
   },
   "outputs": [],
   "source": [
    "del df_concat['Boxscore']\n",
    "df_concat['Home Away'] = df_concat['Home Away'].apply(lambda x: 'Home' if x == '' else 'Away') "
   ]
  },
  {
   "cell_type": "markdown",
   "metadata": {},
   "source": [
    "__index__ the goalies DataFrame by *Date* and *Player ID* and __sort__ by the index"
   ]
  },
  {
   "cell_type": "code",
   "execution_count": 9,
   "metadata": {
    "collapsed": true
   },
   "outputs": [],
   "source": [
    "df_concat.set_index(['Date','Player ID'],inplace=True, drop=True)\n",
    "df_concat.sort_index(axis=0, inplace=True, ascending=True)"
   ]
  },
  {
   "cell_type": "markdown",
   "metadata": {},
   "source": [
    "__result__ of the above code"
   ]
  },
  {
   "cell_type": "code",
   "execution_count": 10,
   "metadata": {},
   "outputs": [
    {
     "name": "stdout",
     "output_type": "stream",
     "text": [
      "                                 Player Position Team Home Away Opponent  \\\n",
      "Date       Player ID                                                       \n",
      "2018-02-09 allenja01         Jake Allen        G  STL      Away      WPG   \n",
      "           bobrose01   Sergei Bobrovsky        G  CBJ      Away      WSH   \n",
      "           darlisc01      Scott Darling        G  CAR      Home      VAN   \n",
      "           gibsojo02        John Gibson        G  ANA      Home      EDM   \n",
      "           greisth01      Thomas Greiss        G  NYI      Home      DET   \n",
      "           halakja01     Jaroslav Halak        G  NYI      Home      DET   \n",
      "           helleco01  Connor Hellebuyck        G  WPG      Home      STL   \n",
      "           holtbbr01      Braden Holtby        G  WSH      Home      CBJ   \n",
      "           lehtoka01      Kari Lehtonen        G  DAL      Home      PIT   \n",
      "           lundqhe01   Henrik Lundqvist        G  NYR      Home      CGY   \n",
      "           marksja02    Jacob Markstrom        G  VAN      Away      CAR   \n",
      "           mrazepe01        Petr Mrazek        G  DET      Away      NYI   \n",
      "           murrama02     Matthew Murray        G  PIT      Away      DAL   \n",
      "           pavelon01     Ondrej Pavelec        G  NYR      Home      CGY   \n",
      "           quickjo01     Jonathan Quick        G  LAK      Away      FLA   \n",
      "           saterha01       Harri Sateri        G  FLA      Home      LAK   \n",
      "           smithmi01         Mike Smith        G  CGY      Away      NYR   \n",
      "           talboca01         Cam Talbot        G  EDM      Away      ANA   \n",
      "\n",
      "                     Result DEC GA  SA  SV   SV% SO PIM    TOI  \n",
      "Date       Player ID                                            \n",
      "2018-02-09 allenja01      W   W  2  22  20  .909  0   0  59:56  \n",
      "           bobrose01      L   L  4  17  13  .765  0   0  58:37  \n",
      "           darlisc01      W   W  1  22  21  .955  0   0  60:00  \n",
      "           gibsojo02      W   W  2  32  30  .938  0   0  59:01  \n",
      "           greisth01      W      5  32  27  .844  0   0  49:54  \n",
      "           halakja01      W   W  1   7   6  .857  0   0  13:21  \n",
      "           helleco01      L   L  4  26  22  .846  0   0  58:11  \n",
      "           holtbbr01      W   W  2  37  35  .946  0   0  60:00  \n",
      "           lehtoka01      W   W  3  37  34  .919  0   0  65:00  \n",
      "           lundqhe01      W   W  2  30  28  .933  0   0  40:00  \n",
      "           marksja02      L   L  4  33  29  .879  0   0  60:00  \n",
      "           mrazepe01   L-OT   O  7  29  22  .759  0   0  62:32  \n",
      "           murrama02   L-SO   O  3  36  33  .917  0   0  63:53  \n",
      "           pavelon01      W      1   8   7  .875  0   0  19:50  \n",
      "           quickjo01      W   W  1  36  35  .972  0   0  60:00  \n",
      "           saterha01      L   L  3  26  23  .885  0   0  56:48  \n",
      "           smithmi01      L   L  4  36  32  .889  0   0  58:14  \n",
      "           talboca01      L   L  3  34  31  .912  0   0  59:27  \n"
     ]
    }
   ],
   "source": [
    "print(df_concat)"
   ]
  }
 ],
 "metadata": {
  "kernelspec": {
   "display_name": "Python 3",
   "language": "python",
   "name": "python3"
  },
  "language_info": {
   "codemirror_mode": {
    "name": "ipython",
    "version": 3
   },
   "file_extension": ".py",
   "mimetype": "text/x-python",
   "name": "python",
   "nbconvert_exporter": "python",
   "pygments_lexer": "ipython3",
   "version": "3.6.3"
  }
 },
 "nbformat": 4,
 "nbformat_minor": 2
}
