{
 "cells": [
  {
   "cell_type": "markdown",
   "metadata": {},
   "source": [
    "__import__ required Python libraries"
   ]
  },
  {
   "cell_type": "code",
   "execution_count": 1,
   "metadata": {
    "collapsed": true
   },
   "outputs": [],
   "source": [
    "from bs4 import BeautifulSoup\n",
    "import datetime\n",
    "import pandas as pd\n",
    "import requests"
   ]
  },
  {
   "cell_type": "markdown",
   "metadata": {},
   "source": [
    "__generate__ the hockey-reference url"
   ]
  },
  {
   "cell_type": "code",
   "execution_count": 2,
   "metadata": {
    "collapsed": true
   },
   "outputs": [],
   "source": [
    "stats_month = 2\n",
    "stats_day = 9\n",
    "stats_year = 2018\n",
    "stats_webpage = 'https://www.hockey-reference.com/friv/dailyleaders.fcgi?month={}&day={}&year={}'.format(\n",
    "                 stats_month, stats_day, stats_year)"
   ]
  },
  {
   "cell_type": "markdown",
   "metadata": {},
   "source": [
    "__create__ the soup object"
   ]
  },
  {
   "cell_type": "code",
   "execution_count": 3,
   "metadata": {
    "collapsed": true
   },
   "outputs": [],
   "source": [
    "r = requests.get(stats_webpage)\n",
    "html_doc = r.text\n",
    "soup = BeautifulSoup(html_doc, 'html.parser')"
   ]
  },
  {
   "cell_type": "markdown",
   "metadata": {},
   "source": [
    "__get__ all records from the skaters table"
   ]
  },
  {
   "cell_type": "code",
   "execution_count": 4,
   "metadata": {
    "collapsed": true
   },
   "outputs": [],
   "source": [
    "skaters_table = soup.find(id='skaters').find_all('td')\n",
    "skaters_tbody = [cell.get_text() for cell in skaters_table]\n",
    "skaters_records = [tuple(skaters_tbody[row: row + 28]) for row in range(0, len(skaters_tbody), 28)]"
   ]
  },
  {
   "cell_type": "markdown",
   "metadata": {},
   "source": [
    "__make__ a list of player ids"
   ]
  },
  {
   "cell_type": "code",
   "execution_count": 5,
   "metadata": {
    "collapsed": true
   },
   "outputs": [],
   "source": [
    "player_id_list = []\n",
    "\n",
    "for player_id in range(len(skaters_table)):\n",
    "    try:\n",
    "        player_id_list.append(skaters_table[player_id]['data-append-csv'])\n",
    "    except:\n",
    "        pass"
   ]
  },
  {
   "cell_type": "markdown",
   "metadata": {},
   "source": [
    "__load__ the skaters data into a Pandas DataFrame"
   ]
  },
  {
   "cell_type": "code",
   "execution_count": 6,
   "metadata": {
    "collapsed": true
   },
   "outputs": [],
   "source": [
    "columns_list = ['Player Name','Position','Team','Home Away','Opponent','Result','Boxscore','G','A','PTS','Plus Minus','PIM','EV','PP','SH','GW','EV','PP','SH','S','S%','SHFT','TOI','HIT','BLK','FOW','FOL','FO%']\n",
    "df_skaters = pd.DataFrame.from_records(skaters_records, columns=columns_list)\n",
    "df_skaters.insert(0, 'Date', datetime.datetime(stats_year, stats_month, stats_day))"
   ]
  },
  {
   "cell_type": "markdown",
   "metadata": {},
   "source": [
    "__concatenate__ the Player IDs to the skaters DataFrame"
   ]
  },
  {
   "cell_type": "code",
   "execution_count": 7,
   "metadata": {},
   "outputs": [],
   "source": [
    "df_player_id = pd.DataFrame(player_id_list, columns=['Player ID'])\n",
    "df_concat = pd.concat([df_player_id, df_skaters], axis=1)"
   ]
  },
  {
   "cell_type": "markdown",
   "metadata": {},
   "source": [
    "__delete__ the *Boxscore* column and __replace__ the contents of the *Home Away* column"
   ]
  },
  {
   "cell_type": "code",
   "execution_count": 8,
   "metadata": {},
   "outputs": [],
   "source": [
    "del df_concat['Boxscore']\n",
    "df_concat['Home Away'] = df_concat['Home Away'].apply(lambda x: 'Home' if x == '' else 'Away') "
   ]
  },
  {
   "cell_type": "markdown",
   "metadata": {},
   "source": [
    "__index__ the skaters DataFrame by *Date* and *Player ID* and __sort__ by the index"
   ]
  },
  {
   "cell_type": "code",
   "execution_count": 9,
   "metadata": {},
   "outputs": [],
   "source": [
    "df_concat.set_index(['Date','Player ID'],inplace=True, drop=True)\n",
    "df_concat.sort_index(axis=0, inplace=True, ascending=True)"
   ]
  },
  {
   "cell_type": "markdown",
   "metadata": {},
   "source": [
    "__result__ of the above code"
   ]
  },
  {
   "cell_type": "code",
   "execution_count": 10,
   "metadata": {},
   "outputs": [
    {
     "name": "stdout",
     "output_type": "stream",
     "text": [
      "                              Player Name Position Team Home Away Opponent  \\\n",
      "Date       Player ID                                                         \n",
      "2018-02-09 abdelju01    Justin Abdelkader       LW  DET      Away      NYI   \n",
      "           ahose01          Sebastian Aho       RW  CAR      Home      VAN   \n",
      "           ahose02          Sebastian Aho        D  NYI      Home      DET   \n",
      "           anderjo05        Josh Anderson       RW  CBJ      Away      WSH   \n",
      "           andrean01        Andy Andreoff       LW  LAK      Away      FLA   \n",
      "           archida02     Darren Archibald       RW  VAN      Away      CAR   \n",
      "           armiajo01           Joel Armia       RW  WPG      Home      STL   \n",
      "           astonza01  Zachary Aston-Reese        C  PIT      Away      DAL   \n",
      "           athanan01   Andreas Athanasiou       LW  DET      Away      NYI   \n",
      "           atkinca01         Cam Atkinson       RW  CBJ      Away      WSH   \n",
      "           backlmi01      Mikael Backlund        C  CGY      Away      NYR   \n",
      "           backsni02    Nicklas Backstrom        C  WSH      Home      CBJ   \n",
      "           baertsv01       Sven Baertschi       LW  VAN      Away      CAR   \n",
      "           bailejo01          Josh Bailey       RW  NYI      Home      DET   \n",
      "           barbaiv01       Ivan Barbashev        C  STL      Away      WPG   \n",
      "           barkoal01    Aleksander Barkov        C  FLA      Home      LAK   \n",
      "           barzama01        Mathew Barzal        C  NYI      Home      DET   \n",
      "           beaglja01           Jay Beagle       RW  WSH      Home      CBJ   \n",
      "           beaucfr01  Francois Beauchemin        D  ANA      Home      EDM   \n",
      "           beauvan01  Anthony Beauvillier       LW  NYI      Home      DET   \n",
      "           bennesa01          Sam Bennett        C  CGY      Away      NYR   \n",
      "           bennima01         Matt Benning        D  EDM      Away      ANA   \n",
      "           bennja01            Jamie Benn       LW  DAL      Home      PIT   \n",
      "           berglpa01      Patrik Berglund        C  STL      Away      WPG   \n",
      "           bertuty01       Tyler Bertuzzi       LW  DET      Away      NYI   \n",
      "           biegaal01           Alex Biega        D  VAN      Away      CAR   \n",
      "           biekske01         Kevin Bieksa        D  ANA      Home      EDM   \n",
      "           bjorkol01   Oliver Bjorkstrand       RW  CBJ      Away      WSH   \n",
      "           bjugsni01        Nick Bjugstad        C  FLA      Home      LAK   \n",
      "           borturo01      Robert Bortuzzo        D  STL      Away      WPG   \n",
      "...                                   ...      ...  ...       ...      ...   \n",
      "           steenal01           Alex Steen       LW  STL      Away      WPG   \n",
      "           stemple01        Lee Stempniak       RW  CAR      Home      VAN   \n",
      "           stephch02  Chandler Stephenson        C  WSH      Home      CBJ   \n",
      "           stonemi01        Michael Stone        D  CGY      Away      NYR   \n",
      "           stromry01          Ryan Strome       RW  EDM      Away      ANA   \n",
      "           suttebr03       Brandon Sutter        C  VAN      Away      CAR   \n",
      "           tarasvl01   Vladimir Tarasenko       RW  STL      Away      WPG   \n",
      "           tatarto01          Tomas Tatar       LW  DET      Away      NYI   \n",
      "           tavarjo01         John Tavares        C  NYI      Home      DET   \n",
      "           teravte01     Teuvo Teravainen       LW  CAR      Home      VAN   \n",
      "           thorbch01       Chris Thorburn       RW  STL      Away      WPG   \n",
      "           tkachma01      Matthew Tkachuk       LW  CGY      Away      NYR   \n",
      "           toffoty01        Tyler Toffoli        C  LAK      Away      FLA   \n",
      "           trochvi01     Vincent Trocheck        C  FLA      Home      LAK   \n",
      "           upshasc01      Scottie Upshall       RW  STL      Away      WPG   \n",
      "           vanekth01         Thomas Vanek       LW  VAN      Away      CAR   \n",
      "           vanritr01  Trevor van Riemsdyk        D  CAR      Home      VAN   \n",
      "           vermean01     Antoine Vermette        C  ANA      Home      EDM   \n",
      "           virtaja01        Jake Virtanen       RW  VAN      Away      CAR   \n",
      "           vranaja01          Jakub Vrana       LW  WSH      Home      CBJ   \n",
      "           wagnech01         Chris Wagner        C  ANA      Home      EDM   \n",
      "           wennbal01   Alexander Wennberg        C  CBJ      Away      WSH   \n",
      "           werenza01        Zach Werenski        D  CBJ      Away      WSH   \n",
      "           wheelbl01        Blake Wheeler       RW  WPG      Home      STL   \n",
      "           williju01      Justin Williams       RW  CAR      Home      VAN   \n",
      "           wilsoto01           Tom Wilson       RW  WSH      Home      CBJ   \n",
      "           yandlke01         Keith Yandle        D  FLA      Home      LAK   \n",
      "           zettehe01    Henrik Zetterberg       LW  DET      Away      NYI   \n",
      "           zibanmi01       Mika Zibanejad        C  NYR      Home      CGY   \n",
      "           zuccama01      Mats Zuccarello       RW  NYR      Home      CGY   \n",
      "\n",
      "                     Result  G  A PTS Plus Minus  ...   SH  S     S% SHFT  \\\n",
      "Date       Player ID                              ...                       \n",
      "2018-02-09 abdelju01   L-OT  0  1   1          2  ...    0  3    0.0   20   \n",
      "           ahose01        W  1  1   2          2  ...    0  4   25.0   22   \n",
      "           ahose02        W  0  0   0          0  ...    0  0          20   \n",
      "           anderjo05      L  0  0   0         -1  ...    0  2    0.0   18   \n",
      "           andrean01      W  0  1   1          1  ...    0  0          15   \n",
      "           archida02      L  0  0   0         -1  ...    0  0          20   \n",
      "           armiajo01      L  0  0   0         -2  ...    0  1    0.0   21   \n",
      "           astonza01   L-SO  0  1   1          0  ...    0  0          21   \n",
      "           athanan01   L-OT  0  0   0          0  ...    0  4    0.0   22   \n",
      "           atkinca01      L  0  0   0          1  ...    0  4    0.0   21   \n",
      "           backlmi01      L  0  0   0         -1  ...    0  7    0.0   23   \n",
      "           backsni02      W  0  0   0         -1  ...    0  0          22   \n",
      "           baertsv01      L  0  1   1         -1  ...    0  0          26   \n",
      "           bailejo01      W  1  1   2         -4  ...    0  1  100.0   21   \n",
      "           barbaiv01      W  0  0   0          0  ...    0  0          14   \n",
      "           barkoal01      L  0  0   0         -1  ...    0  4    0.0   26   \n",
      "           barzama01      W  0  5   5          2  ...    0  2    0.0   24   \n",
      "           beaglja01      W  1  0   1          1  ...    0  1  100.0   15   \n",
      "           beaucfr01      W  0  0   0         -1  ...    0  1    0.0   20   \n",
      "           beauvan01      W  0  0   0          1  ...    0  1    0.0   22   \n",
      "           bennesa01      L  0  0   0          0  ...    0  2    0.0   14   \n",
      "           bennima01      L  0  0   0         -1  ...    0  2    0.0   23   \n",
      "           bennja01       W  0  3   3          1  ...    0  1    0.0   30   \n",
      "           berglpa01      W  1  0   1          1  ...    0  2   50.0   23   \n",
      "           bertuty01   L-OT  0  1   1         -1  ...    0  0          10   \n",
      "           biegaal01      L  0  1   1          1  ...    0  2    0.0   21   \n",
      "           biekske01      W  0  0   0          1  ...    0  1    0.0   17   \n",
      "           bjorkol01      L  0  0   0         -2  ...    0  0          17   \n",
      "           bjugsni01      L  0  0   0         -1  ...    0  2    0.0   23   \n",
      "           borturo01      W  0  1   1          2  ...    0  0          20   \n",
      "...                     ... .. ..  ..        ...  ...   .. ..    ...  ...   \n",
      "           steenal01      W  1  1   2          3  ...    0  1  100.0   24   \n",
      "           stemple01      W  0  0   0         -1  ...    0  3    0.0   18   \n",
      "           stephch02      W  0  1   1          1  ...    0  1    0.0   13   \n",
      "           stonemi01      L  0  0   0          1  ...    0  0          21   \n",
      "           stromry01      L  0  0   0          0  ...    0  2    0.0   15   \n",
      "           suttebr03      L  0  0   0         -1  ...    0  1    0.0   25   \n",
      "           tarasvl01      W  2  0   2          2  ...    0  7   28.6   20   \n",
      "           tatarto01   L-OT  0  0   0          0  ...    0  0          20   \n",
      "           tavarjo01      W  0  2   2         -4  ...    0  4    0.0   21   \n",
      "           teravte01      W  0  0   0          2  ...    0  4    0.0   22   \n",
      "           thorbch01      W  0  0   0          0  ...    0  0          11   \n",
      "           tkachma01      L  1  0   1         -1  ...    0  5   20.0   19   \n",
      "           toffoty01      W  0  0   0          0  ...    0  3    0.0   22   \n",
      "           trochvi01      L  0  0   0         -1  ...    0  6    0.0   24   \n",
      "           upshasc01      W  0  0   0          0  ...    0  2    0.0   14   \n",
      "           vanekth01      L  0  0   0          0  ...    0  1    0.0   17   \n",
      "           vanritr01      W  0  0   0          2  ...    0  1    0.0   25   \n",
      "           vermean01      W  0  0   0         -1  ...    0  1    0.0   11   \n",
      "           virtaja01      L  0  0   0         -2  ...    0  0          23   \n",
      "           vranaja01      W  0  1   1          0  ...    0  2    0.0   15   \n",
      "           wagnech01      W  0  0   0         -1  ...    0  0          12   \n",
      "           wennbal01      L  0  0   0          0  ...    0  0          16   \n",
      "           werenza01      L  0  0   0         -1  ...    0  4    0.0   24   \n",
      "           wheelbl01      L  0  1   1         -2  ...    0  4    0.0   23   \n",
      "           williju01      W  1  0   1          1  ...    0  3   33.3   21   \n",
      "           wilsoto01      W  0  0   0          0  ...    0  1    0.0   20   \n",
      "           yandlke01      L  0  0   0         -1  ...    0  3    0.0   27   \n",
      "           zettehe01   L-OT  1  3   4          2  ...    0  4   25.0   21   \n",
      "           zibanmi01      W  1  0   1          1  ...    0  4   25.0   28   \n",
      "           zuccama01      W  0  1   1          1  ...    0  2    0.0   23   \n",
      "\n",
      "                        TOI HIT BLK FOW FOL    FO%  \n",
      "Date       Player ID                                \n",
      "2018-02-09 abdelju01  14:19   4   0   0   0         \n",
      "           ahose01    19:06   0   0   1   0  100.0  \n",
      "           ahose02    15:37   0   1   0   0         \n",
      "           anderjo05  15:22   1   1   1   0  100.0  \n",
      "           andrean01  10:35   3   1   1   1   50.0  \n",
      "           archida02  16:10   4   1   0   0         \n",
      "           armiajo01  15:24   1   0   0   0         \n",
      "           astonza01  13:16   3   0   0   0         \n",
      "           athanan01  15:06   0   0   0   1    0.0  \n",
      "           atkinca01  18:35   2   0   0   1    0.0  \n",
      "           backlmi01  19:27   1   0   9  10   47.4  \n",
      "           backsni02  19:49   0   0   8  11   42.1  \n",
      "           baertsv01  15:17   0   1   0   0         \n",
      "           bailejo01  22:03   0   0   0   0         \n",
      "           barbaiv01  12:24   0   0   0   0         \n",
      "           barkoal01  22:15   0   0   9  10   47.4  \n",
      "           barzama01  21:41   0   0   4   7   36.4  \n",
      "           beaglja01  14:00   1   1   6   5   54.5  \n",
      "           beaucfr01  15:05   2   1   0   0         \n",
      "           beauvan01  19:05   3   1   1   1   50.0  \n",
      "           bennesa01  12:41   1   1   0   0         \n",
      "           bennima01  16:59   2   1   0   0         \n",
      "           bennja01   22:21   2   0   3   5   37.5  \n",
      "           berglpa01  19:51   1   0   0   0         \n",
      "           bertuty01   6:58   0   1   1   0  100.0  \n",
      "           biegaal01  17:50   0   1   0   0         \n",
      "           biekske01  17:44   3   1   0   0         \n",
      "           bjorkol01  14:12   3   0   0   0         \n",
      "           bjugsni01  18:15   1   0   0   4    0.0  \n",
      "           borturo01  14:10   2   3   0   0         \n",
      "...                     ...  ..  ..  ..  ..    ...  \n",
      "           steenal01  16:55   1   0   0   2    0.0  \n",
      "           stemple01  10:35   0   0   0   0         \n",
      "           stephch02  11:01   0   3   0   0         \n",
      "           stonemi01  15:27   1   2   0   0         \n",
      "           stromry01  16:49   1   0   5   2   71.4  \n",
      "           suttebr03  19:02   3   3   8   9   47.1  \n",
      "           tarasvl01  15:51   1   0   0   0         \n",
      "           tatarto01  16:09   0   0   0   0         \n",
      "           tavarjo01  23:39   0   0  10   7   58.8  \n",
      "           teravte01  19:23   0   0   0   0         \n",
      "           thorbch01   6:16   3   1   0   0         \n",
      "           tkachma01  17:01   1   0   0   0         \n",
      "           toffoty01  17:17   0   0   0   1    0.0  \n",
      "           trochvi01  22:29   1   0  13   7   65.0  \n",
      "           upshasc01  10:05   0   1   0   0         \n",
      "           vanekth01  14:10   1   0   0   0         \n",
      "           vanritr01  16:08   0   0   0   0         \n",
      "           vermean01   8:21   0   0   2   6   25.0  \n",
      "           virtaja01  13:07   3   1   0   0         \n",
      "           vranaja01  14:58   0   0   1   0  100.0  \n",
      "           wagnech01   9:22   4   1   0   0         \n",
      "           wennbal01  18:31   0   1   6   8   42.9  \n",
      "           werenza01  21:42   3   1   0   0         \n",
      "           wheelbl01  23:20   0   2   0   0         \n",
      "           williju01  15:07   2   0   0   0         \n",
      "           wilsoto01  15:28   4   0   0   1    0.0  \n",
      "           yandlke01  25:01   1   2   0   0         \n",
      "           zettehe01  18:03   0   0   9   7   56.3  \n",
      "           zibanmi01  18:42   2   2   5   8   38.5  \n",
      "           zuccama01  19:21   1   2   1   2   33.3  \n",
      "\n",
      "[288 rows x 27 columns]\n"
     ]
    }
   ],
   "source": [
    "print(df_concat)"
   ]
  }
 ],
 "metadata": {
  "kernelspec": {
   "display_name": "Python 3",
   "language": "python",
   "name": "python3"
  },
  "language_info": {
   "codemirror_mode": {
    "name": "ipython",
    "version": 3
   },
   "file_extension": ".py",
   "mimetype": "text/x-python",
   "name": "python",
   "nbconvert_exporter": "python",
   "pygments_lexer": "ipython3",
   "version": "3.6.3"
  }
 },
 "nbformat": 4,
 "nbformat_minor": 2
}
