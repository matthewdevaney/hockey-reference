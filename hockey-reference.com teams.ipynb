{
 "cells": [
  {
   "cell_type": "markdown",
   "metadata": {},
   "source": [
    "__import__ required Python libraries"
   ]
  },
  {
   "cell_type": "code",
   "execution_count": 1,
   "metadata": {
    "collapsed": true
   },
   "outputs": [],
   "source": [
    "from bs4 import BeautifulSoup\n",
    "from bs4 import Comment\n",
    "import datetime\n",
    "import pandas as pd\n",
    "import requests"
   ]
  },
  {
   "cell_type": "markdown",
   "metadata": {},
   "source": [
    "__generate__ the hockey-reference url"
   ]
  },
  {
   "cell_type": "code",
   "execution_count": 2,
   "metadata": {
    "collapsed": true
   },
   "outputs": [],
   "source": [
    "date_year = 2018\n",
    "stats_webpage = 'https://www.hockey-reference.com/leagues/NHL_{}.html'.format(date_year)"
   ]
  },
  {
   "cell_type": "markdown",
   "metadata": {},
   "source": [
    "__create__ the soup object"
   ]
  },
  {
   "cell_type": "code",
   "execution_count": 3,
   "metadata": {
    "collapsed": true
   },
   "outputs": [],
   "source": [
    "r = requests.get(stats_webpage)\n",
    "html_doc = r.text\n",
    "soup = BeautifulSoup(html_doc, 'html.parser')"
   ]
  },
  {
   "cell_type": "markdown",
   "metadata": {},
   "source": [
    "__extract__ the comment containing the teams table"
   ]
  },
  {
   "cell_type": "code",
   "execution_count": 4,
   "metadata": {
    "collapsed": true
   },
   "outputs": [],
   "source": [
    "team_table = soup.find(id='all_stats')\n",
    "team_comment = team_table.find(string=lambda text:isinstance(text, Comment))"
   ]
  },
  {
   "cell_type": "markdown",
   "metadata": {},
   "source": [
    "__convert__ the comment back into a string and __create__ another soup object from it"
   ]
  },
  {
   "cell_type": "code",
   "execution_count": 5,
   "metadata": {
    "collapsed": true
   },
   "outputs": [],
   "source": [
    "str_comment = str(team_comment)\n",
    "soup2 = BeautifulSoup(str_comment, 'html.parser')"
   ]
  },
  {
   "cell_type": "markdown",
   "metadata": {},
   "source": [
    "__get__ all records from the teams table"
   ]
  },
  {
   "cell_type": "code",
   "execution_count": 6,
   "metadata": {},
   "outputs": [],
   "source": [
    "team_table2 = soup2.find(id='stats').find_all('td')\n",
    "team_tbody = [cell.get_text() for cell in team_table2]\n",
    "team_records = [tuple(team_tbody[row: row + 32]) for row in range(0, len(team_tbody), 32)]\n",
    "del team_records[-1]"
   ]
  },
  {
   "cell_type": "markdown",
   "metadata": {},
   "source": [
    "__make__ a list of team ids"
   ]
  },
  {
   "cell_type": "code",
   "execution_count": 7,
   "metadata": {},
   "outputs": [],
   "source": [
    "team_table3 = soup2.find(id='stats').find('tbody').find_all('a')\n",
    "list_team_ids = [a['href'][7:10] for a in team_table3]"
   ]
  },
  {
   "cell_type": "markdown",
   "metadata": {},
   "source": [
    "__load__ the teams data into a Pandas DataFrame"
   ]
  },
  {
   "cell_type": "code",
   "execution_count": 8,
   "metadata": {},
   "outputs": [],
   "source": [
    "columns_list = ['Team Name', 'Average Age', 'GP', 'W', 'L', 'OL', 'PTS', 'PTS%', 'GF', 'GA', 'SOW', 'SOL', 'SRS', 'SOS', 'TG/G', 'EVGF', 'EVGA', 'PP', 'PPO', 'PP%', 'PPA', 'PPOA', 'PK%', 'SH', 'SHA', 'PIM/G', 'oPIM/G', 'S', 'S%', 'SA', 'SV%', 'PDO']\n",
    "df_teams = pd.DataFrame.from_records(team_records, columns=columns_list)"
   ]
  },
  {
   "cell_type": "markdown",
   "metadata": {},
   "source": [
    "__concatenate__ the team ids to the teams DataFrame"
   ]
  },
  {
   "cell_type": "code",
   "execution_count": 9,
   "metadata": {
    "collapsed": true
   },
   "outputs": [],
   "source": [
    "df_team_id = pd.DataFrame(list_team_ids, columns=['Team ID'])\n",
    "df_concat = pd.concat([df_team_id, df_teams], axis=1)"
   ]
  },
  {
   "cell_type": "code",
   "execution_count": 10,
   "metadata": {
    "collapsed": true
   },
   "outputs": [],
   "source": [
    "df_concat.set_index('Team ID', drop=True, inplace=True)"
   ]
  },
  {
   "cell_type": "code",
   "execution_count": 11,
   "metadata": {
    "collapsed": true
   },
   "outputs": [],
   "source": [
    "del df_concat['Average Age']"
   ]
  },
  {
   "cell_type": "code",
   "execution_count": null,
   "metadata": {
    "collapsed": true
   },
   "outputs": [],
   "source": []
  },
  {
   "cell_type": "code",
   "execution_count": 12,
   "metadata": {},
   "outputs": [
    {
     "name": "stdout",
     "output_type": "stream",
     "text": [
      "<class 'pandas.core.frame.DataFrame'>\n",
      "Index: 31 entries, TBL to ARI\n",
      "Data columns (total 31 columns):\n",
      "Team Name    31 non-null object\n",
      "GP           31 non-null object\n",
      "W            31 non-null object\n",
      "L            31 non-null object\n",
      "OL           31 non-null object\n",
      "PTS          31 non-null object\n",
      "PTS%         31 non-null object\n",
      "GF           31 non-null object\n",
      "GA           31 non-null object\n",
      "SOW          31 non-null object\n",
      "SOL          31 non-null object\n",
      "SRS          31 non-null object\n",
      "SOS          31 non-null object\n",
      "TG/G         31 non-null object\n",
      "EVGF         31 non-null object\n",
      "EVGA         31 non-null object\n",
      "PP           31 non-null object\n",
      "PPO          31 non-null object\n",
      "PP%          31 non-null object\n",
      "PPA          31 non-null object\n",
      "PPOA         31 non-null object\n",
      "PK%          31 non-null object\n",
      "SH           31 non-null object\n",
      "SHA          31 non-null object\n",
      "PIM/G        31 non-null object\n",
      "oPIM/G       31 non-null object\n",
      "S            31 non-null object\n",
      "S%           31 non-null object\n",
      "SA           31 non-null object\n",
      "SV%          31 non-null object\n",
      "PDO          31 non-null object\n",
      "dtypes: object(31)\n",
      "memory usage: 7.8+ KB\n",
      "None\n"
     ]
    }
   ],
   "source": [
    "print(df_concat.info())"
   ]
  }
 ],
 "metadata": {
  "kernelspec": {
   "display_name": "Python 3",
   "language": "python",
   "name": "python3"
  },
  "language_info": {
   "codemirror_mode": {
    "name": "ipython",
    "version": 3
   },
   "file_extension": ".py",
   "mimetype": "text/x-python",
   "name": "python",
   "nbconvert_exporter": "python",
   "pygments_lexer": "ipython3",
   "version": "3.6.3"
  }
 },
 "nbformat": 4,
 "nbformat_minor": 2
}
