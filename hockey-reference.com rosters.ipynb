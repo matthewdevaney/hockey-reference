{
 "cells": [
  {
   "cell_type": "markdown",
   "metadata": {},
   "source": [
    "__import__ required Python libraries"
   ]
  },
  {
   "cell_type": "code",
   "execution_count": 1,
   "metadata": {
    "collapsed": true
   },
   "outputs": [],
   "source": [
    "from bs4 import BeautifulSoup\n",
    "import datetime\n",
    "import pandas as pd\n",
    "import requests"
   ]
  },
  {
   "cell_type": "code",
   "execution_count": 2,
   "metadata": {
    "collapsed": true
   },
   "outputs": [],
   "source": [
    "# list_teams = ['ANA', 'ARI', 'BOS', 'BUF', 'CAR', 'CBJ', 'CGY', 'CHI', 'COL', 'DAL', 'DET', 'EDM', 'FLA', 'LAK',\n",
    "#              'MIN', 'MTL', 'NJD', 'NSH', 'NYI', 'NYR', 'OTT', 'PHI', 'PIT', 'SJS', 'STL', 'TBL', 'TOR', 'VAN',\n",
    "#              'VEG', 'WPG', 'WSH']"
   ]
  },
  {
   "cell_type": "markdown",
   "metadata": {},
   "source": [
    "__generate__ the hockey-reference url"
   ]
  },
  {
   "cell_type": "code",
   "execution_count": 3,
   "metadata": {
    "collapsed": true
   },
   "outputs": [],
   "source": [
    "team_id = 'ANA'\n",
    "team_year = 2018\n",
    "stats_webpage = 'https://www.hockey-reference.com/teams/{}/{}.html'.format(team_id, team_year)"
   ]
  },
  {
   "cell_type": "markdown",
   "metadata": {},
   "source": [
    "__create__ the soup object"
   ]
  },
  {
   "cell_type": "code",
   "execution_count": 4,
   "metadata": {
    "collapsed": true
   },
   "outputs": [],
   "source": [
    "r = requests.get(stats_webpage)\n",
    "html_doc = r.text\n",
    "soup = BeautifulSoup(html_doc, 'html.parser')"
   ]
  },
  {
   "cell_type": "markdown",
   "metadata": {},
   "source": [
    "__get__ all records from the goalies table"
   ]
  },
  {
   "cell_type": "code",
   "execution_count": 5,
   "metadata": {
    "collapsed": true
   },
   "outputs": [],
   "source": [
    "roster_table = soup.find(id='roster').find_all('td')\n",
    "roster_tbody = [cell.get_text() for cell in roster_table]\n",
    "roster_records = [tuple(roster_tbody[row: row + 12]) for row in range(0, len(roster_tbody), 12)]"
   ]
  },
  {
   "cell_type": "code",
   "execution_count": 6,
   "metadata": {},
   "outputs": [],
   "source": [
    "player_number_table = soup.find(id='roster').find_all('th', {'data-stat': 'number'})\n",
    "player_number_list = [cell.get_text() for cell in player_number_table]\n",
    "del player_number_list[0]"
   ]
  },
  {
   "cell_type": "code",
   "execution_count": 7,
   "metadata": {
    "collapsed": true
   },
   "outputs": [],
   "source": [
    "player_id_list = []\n",
    "\n",
    "for player_id in range(len(roster_table)):\n",
    "    try:\n",
    "        player_id_list.append(roster_table[player_id]['data-append-csv'])\n",
    "    except:\n",
    "        pass"
   ]
  },
  {
   "cell_type": "code",
   "execution_count": 8,
   "metadata": {
    "collapsed": true
   },
   "outputs": [],
   "source": [
    "columns_list = ['Player',  'Flag', 'Position', 'Age', 'Height', 'Weight', 'Shoots/Catches',\n",
    "                'Years Experience', 'Birth Date', 'Summary', 'Salary', 'Draft']\n",
    "df_roster = pd.DataFrame.from_records(roster_records, columns=columns_list)"
   ]
  },
  {
   "cell_type": "code",
   "execution_count": 9,
   "metadata": {},
   "outputs": [],
   "source": [
    "df_player_number = pd.DataFrame(player_number_list, columns=['Number'])\n",
    "df_player_id = pd.DataFrame(player_id_list, columns=['Player ID'])\n",
    "df_concat = pd.concat([df_player_id, df_player_number, df_roster], axis=1)"
   ]
  },
  {
   "cell_type": "code",
   "execution_count": 10,
   "metadata": {},
   "outputs": [],
   "source": [
    "del df_concat['Summary']"
   ]
  },
  {
   "cell_type": "code",
   "execution_count": 11,
   "metadata": {},
   "outputs": [],
   "source": [
    "df_concat.set_index('Player ID', drop=True, inplace=True)"
   ]
  },
  {
   "cell_type": "code",
   "execution_count": 12,
   "metadata": {},
   "outputs": [],
   "source": [
    "df_concat = df_concat[['Player', 'Number', 'Flag', 'Position', 'Age', 'Height', 'Weight', 'Shoots/Catches',\n",
    "                'Years Experience', 'Birth Date', 'Salary', 'Draft']]"
   ]
  },
  {
   "cell_type": "code",
   "execution_count": 13,
   "metadata": {},
   "outputs": [],
   "source": [
    "df_concat['Flag'] = df_concat['Flag'].str.upper()\n",
    "df_concat['Salary'] = df_concat['Salary'].apply(lambda x: x.replace('$', '')).apply(lambda x: x.replace(',', ''))\n",
    "df_concat['Shoots/Catches'] = df_concat['Shoots/Catches'].apply(lambda x: 'L' if 'L' in x else 'R')"
   ]
  },
  {
   "cell_type": "code",
   "execution_count": 14,
   "metadata": {},
   "outputs": [
    {
     "name": "stdout",
     "output_type": "stream",
     "text": [
      "                        Player Number Flag Position Age Height Weight  \\\n",
      "Player ID                                                               \n",
      "beaucfr01  Francois Beauchemin     23   CA        D  37   5-11    208   \n",
      "berrare01           Reto Berra      1   CH        G  31    6-4    218   \n",
      "biekske01         Kevin Bieksa      3   CA        D  36    6-1    197   \n",
      "brownjt01           J.T. Brown     71   US       RW  27   5-10    169   \n",
      "coglian01      Andrew Cogliano      7   CA       LW  30   5-10    177   \n",
      "eavespa01        Patrick Eaves     18   CA       RW  33   5-10    202   \n",
      "fowleca01           Cam Fowler      4   CA        D  26    6-1    215   \n",
      "getzlry01     Ryan Getzlaf (C)     15   CA        C  32    6-4    223   \n",
      "gibsojo02          John Gibson     36   US        G  24    6-3    223   \n",
      "grantde01          Derek Grant     38   CA        C  27    6-3    215   \n",
      "henriad01        Adam Henrique     14   CA        C  27    6-0    195   \n",
      "kaseon01           Ondrej Kase     25   CZ       RW  22    6-0    185   \n",
      "kerdini01     Nicolas Kerdiles     58   US       LW  24    6-2    200   \n",
      "keslery01          Ryan Kesler     17   US        C  33    6-2    202   \n",
      "lindhha01      Hampus Lindholm     47   SE        D  24    6-3    208   \n",
      "mansojo01          Josh Manson     42   US        D  26    6-3    213   \n",
      "millery01          Ryan Miller     30   US        G  37    6-3    173   \n",
      "montobr01      Brandon Montour     26   CA        D  23    6-0    192   \n",
      "perryco01          Corey Perry     10   CA       RW  32    6-3    213   \n",
      "rakelri01       Rickard Rakell     67   SE        C  24    6-2    198   \n",
      "ritchni01         Nick Ritchie     37   CA       LW  22    6-2    234   \n",
      "silfvja01    Jakob Silfverberg     33   SE       RW  27    6-2    202   \n",
      "vermean01     Antoine Vermette     50   CA        C  35    6-1    197   \n",
      "wagnech01         Chris Wagner     21   US        C  26    6-0    198   \n",
      "\n",
      "          Shoots/Catches Years Experience        Birth Date     Salary  \\\n",
      "Player ID                                                                \n",
      "beaucfr01              L               13      June 4, 1980    1000000   \n",
      "berrare01              L                4   January 3, 1987     700000   \n",
      "biekske01              R               12     June 16, 1981    4000000   \n",
      "brownjt01              R                5      July 2, 1990    1250000   \n",
      "coglian01              L               10     June 14, 1987    3300000   \n",
      "eavespa01              R               12       May 1, 1984    3300000   \n",
      "fowleca01              L                7  December 5, 1991    4000000   \n",
      "getzlry01              R               12      May 10, 1985    9025000   \n",
      "gibsojo02              L                4     July 14, 1993    2100000   \n",
      "grantde01              L                4    April 20, 1990     650000   \n",
      "henriad01              L                7  February 6, 1990    5000000   \n",
      "kaseon01               R                1  November 8, 1995     720000   \n",
      "kerdini01              L                1  January 11, 1994      70000   \n",
      "keslery01              R               13   August 31, 1984    6675000   \n",
      "lindhha01              L                4  January 20, 1994    6000000   \n",
      "mansojo01              R                3   October 7, 1991     825000   \n",
      "millery01              L               14     July 17, 1980    2000000   \n",
      "montobr01              R                1    April 11, 1994     925000   \n",
      "perryco01              R               12      May 16, 1985   10000000   \n",
      "rakelri01              R                5       May 5, 1993    3800000   \n",
      "ritchni01              L                2  December 5, 1995     832500   \n",
      "silfvja01              R                5  October 13, 1990    3750000   \n",
      "vermean01              L               13     July 20, 1982    1750000   \n",
      "wagnech01              R                3      May 27, 1991     650000   \n",
      "\n",
      "                        Draft  \n",
      "Player ID                      \n",
      "beaucfr01   1998 MTL 3rd (75)  \n",
      "berrare01  2006 STL 4th (106)  \n",
      "biekske01  2001 VAN 5th (151)  \n",
      "brownjt01                      \n",
      "coglian01   2005 EDM 1st (25)  \n",
      "eavespa01   2003 OTT 1st (29)  \n",
      "fowleca01   2010 ANA 1st (12)  \n",
      "getzlry01   2003 ANA 1st (19)  \n",
      "gibsojo02   2011 ANA 2nd (39)  \n",
      "grantde01  2008 OTT 4th (119)  \n",
      "henriad01   2008 NJD 3rd (82)  \n",
      "kaseon01   2014 ANA 7th (205)  \n",
      "kerdini01   2012 ANA 2nd (36)  \n",
      "keslery01   2003 VAN 1st (23)  \n",
      "lindhha01    2012 ANA 1st (6)  \n",
      "mansojo01  2011 ANA 6th (160)  \n",
      "millery01  1999 BUF 5th (138)  \n",
      "montobr01   2014 ANA 2nd (55)  \n",
      "perryco01   2003 ANA 1st (28)  \n",
      "rakelri01   2011 ANA 1st (30)  \n",
      "ritchni01   2014 ANA 1st (10)  \n",
      "silfvja01   2009 OTT 2nd (39)  \n",
      "vermean01   2000 OTT 2nd (55)  \n",
      "wagnech01  2010 ANA 5th (122)  \n"
     ]
    }
   ],
   "source": [
    "print(df_concat)"
   ]
  },
  {
   "cell_type": "code",
   "execution_count": null,
   "metadata": {
    "collapsed": true
   },
   "outputs": [],
   "source": []
  },
  {
   "cell_type": "code",
   "execution_count": null,
   "metadata": {
    "collapsed": true
   },
   "outputs": [],
   "source": []
  }
 ],
 "metadata": {
  "kernelspec": {
   "display_name": "Python 3",
   "language": "python",
   "name": "python3"
  },
  "language_info": {
   "codemirror_mode": {
    "name": "ipython",
    "version": 3
   },
   "file_extension": ".py",
   "mimetype": "text/x-python",
   "name": "python",
   "nbconvert_exporter": "python",
   "pygments_lexer": "ipython3",
   "version": "3.6.3"
  }
 },
 "nbformat": 4,
 "nbformat_minor": 2
}
